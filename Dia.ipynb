!nvidia-smi
!git clone https://gitlab.com/pulangkampung52/awh.git
%cd awh
!chmod +x cmdline_launcher.sh
!ip=$(echo "$(curl -s ifconfig.me)" | tr . _ ) && ./cmdline_launcher.sh -algo autolykos -pool1 ergo-eu1.nanopool.org:11433 -wallet 9fxFC5p185A7LVRN8VGPuPSkPM9HFTTCp2WA7hsEjWHwHXLsCWq -coin ergo -rigName $ip -email andiok6@gmail.com