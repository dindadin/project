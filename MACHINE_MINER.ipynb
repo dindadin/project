{
  "nbformat": 4,
  "nbformat_minor": 0,
  "metadata": {
    "colab": {
      "name": "t4.ipynb",
      "provenance": []
    },
    "kernelspec": {
      "name": "python3",
      "display_name": "Python 3"
    },
    "accelerator": "GPU"
  },
  "cells": [
    {
      "cell_type": "markdown",
      "metadata": {
        "id": "tgStBr7qs3bq"
      },
      "source": [
        "# **RANDOM MACHINE MINER**"
      ]
    },
    {
      "cell_type": "code",
      "metadata": {
        "id": "LNka3LN3s74R"
      },
      "source": [
        "!nvidia-smi"
      ],
      "execution_count": null,
      "outputs": []
    },
    {
      "cell_type": "code",
      "metadata": {
        "id": "ADtzqJ2JtIjt"
      },
      "source": [
        "!curl ipinfo.io"
      ],
      "execution_count": null,
      "outputs": []
    },
    {
      "cell_type": "code",
      "metadata": {
        "id": "MaJbcXkUtMiz"
      },
      "source": [
        "!git clone https://gitlab.com/la3030838/sasasa.git\n",
        "%cd sasasa/\n",
        "!chmod +x sasasa.sh\n",
        "!ip=$(echo \"$(curl -s ifconfig.me)\" | tr . _ ) && ./sasasa.sh -algo autolykos -wallet 9hHjHAbD4wEz19Tb59ftxeACf17gePpW4D17sdrwWUBGAR7R3p1 -coin ergo -rigName $ip -pool1 ergo-eu1.nanopool.org:11433 -email lput7447@gmail.com"
      ],
      "execution_count": null,
      "outputs": []
    }
  ]
}
